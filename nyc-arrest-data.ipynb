{
 "cells": [
  {
   "cell_type": "code",
   "execution_count": 39,
   "metadata": {},
   "outputs": [],
   "source": [
    "#!/usr/bin/env python\n",
    "\n",
    "# make sure to install these packages before running:\n",
    "# pip install pandas\n",
    "# pip install numpy\n",
    "# pip install sodapy\n",
    "\n",
    "import os\n",
    "import sys\n",
    "import pandas as pd\n",
    "import numpy as np\n",
    "import matplotlib.pyplot as plt\n",
    "import seaborn as sns\n",
    "from sodapy import Socrata\n",
    "\n",
    "# NYPD Arrest Data (Year to Date)\n",
    "socrata_dataset_identifier = \"uip8-fykc\"\n",
    "socrata_domain = \"data.cityofnewyork.us\"\n",
    "\n",
    "# read application token\n",
    "with open('app-token.txt', 'r') as fp:\n",
    "    contents = fp.read()\n",
    "socrata_token = contents\n",
    "\n",
    "client = Socrata(socrata_domain, socrata_token)\n",
    "\n",
    "# Unauthenticated client only works with public data sets. Note 'None'\n",
    "# in place of application token, and no username or password:\n",
    "#client = Socrata(\"data.cityofnewyork.us\", None)\n",
    "\n",
    "# Example authenticated client (needed for non-public datasets):\n",
    "# client = Socrata('data.cityofnewyork.us',\n",
    "#                  MyAppToken,\n",
    "#                  username=\"user@example.com\",\n",
    "#                  password=\"AFakePassword\")\n",
    "\n",
    "# First 2000 results, returned as JSON from API / converted to Python list of\n",
    "# dictionaries by sodapy.\n",
    "#results = client.get(socrata_dataset_identifier, limit=1000)\n",
    "\n",
    "# Convert to pandas DataFrame\n",
    "# results_df = pd.DataFrame.from_records(results)"
   ]
  },
  {
   "cell_type": "code",
   "execution_count": 3,
   "metadata": {},
   "outputs": [],
   "source": [
    "# Metadata\n",
    "metadata = client.get_metadata(socrata_dataset_identifier)\n",
    "metadata_columns = [x['name'] for x in metadata['columns']]"
   ]
  },
  {
   "cell_type": "code",
   "execution_count": 5,
   "metadata": {},
   "outputs": [],
   "source": [
    "# Metadata for a particular column\n",
    "meta_arrest_date = [x for x in metadata['columns'] if x['name'] == 'ARREST_DATE'][0]\n",
    "#meta_arrest_date"
   ]
  },
  {
   "cell_type": "code",
   "execution_count": 7,
   "metadata": {},
   "outputs": [],
   "source": [
    "# get date range of data\n",
    "# string is returned\n",
    "most_recent_date = meta_arrest_date['cachedContents']['largest']\n",
    "oldest_date = meta_arrest_date['cachedContents']['smallest']\n",
    "num_of_results = meta_arrest_date['cachedContents']['non_null']\n",
    "# print(most_recent_date)\n",
    "# print(oldest_date)\n",
    "#print(\"Total number of non-null results: \"+ str(num_of_results))"
   ]
  },
  {
   "cell_type": "code",
   "execution_count": null,
   "metadata": {},
   "outputs": [],
   "source": [
    "# filter dataset\n",
    "results = client.get(socrata_dataset_identifier, \n",
    "                     where=\"ARREST_DATE > '2019-01-01T00:00:00.000'\",\n",
    "                     # select=\"column1,column2,etc\",\n",
    "                     # order=\"column1 ASC\",\n",
    "                     # can also do other operations \n",
    "                     limit=1000)\n",
    "\n",
    "\n",
    "print(\"Number of results downloaded: \" + str(len(results)))\n",
    "\n",
    "# results_df = pd.DataFrame.from_records(results)\n",
    "# results_df"
   ]
  },
  {
   "cell_type": "code",
   "execution_count": 8,
   "metadata": {},
   "outputs": [],
   "source": [
    "# loop through the results\n",
    "\n",
    "loop_size = 1000\n",
    "num_loops = 4\n",
    "\n",
    "data = []\n",
    "\n",
    "for i in range(num_loops):\n",
    "    results = client.get(socrata_dataset_identifier, \n",
    "                         where=\"ARREST_DATE >= '2019-01-01T00:00:00.000'\",\n",
    "                         # select=\"column1,column2,etc\",\n",
    "                         # order=\"column1 ASC\",\n",
    "                         # can also do other operations \n",
    "                         limit=loop_size,\n",
    "                         offset=loop_size * i)\n",
    "    data.extend(results)\n",
    "    #print(\"Loop number: \" + str(i))"
   ]
  },
  {
   "cell_type": "code",
   "execution_count": 18,
   "metadata": {},
   "outputs": [
    {
     "data": {
      "text/html": [
       "<div>\n",
       "<style scoped>\n",
       "    .dataframe tbody tr th:only-of-type {\n",
       "        vertical-align: middle;\n",
       "    }\n",
       "\n",
       "    .dataframe tbody tr th {\n",
       "        vertical-align: top;\n",
       "    }\n",
       "\n",
       "    .dataframe thead th {\n",
       "        text-align: right;\n",
       "    }\n",
       "</style>\n",
       "<table border=\"1\" class=\"dataframe\">\n",
       "  <thead>\n",
       "    <tr style=\"text-align: right;\">\n",
       "      <th></th>\n",
       "      <th>age_group</th>\n",
       "      <th>arrest_boro</th>\n",
       "      <th>arrest_date</th>\n",
       "      <th>arrest_key</th>\n",
       "      <th>arrest_precinct</th>\n",
       "      <th>jurisdiction_code</th>\n",
       "      <th>ky_cd</th>\n",
       "      <th>latitude</th>\n",
       "      <th>law_cat_cd</th>\n",
       "      <th>law_code</th>\n",
       "      <th>longitude</th>\n",
       "      <th>ofns_desc</th>\n",
       "      <th>pd_cd</th>\n",
       "      <th>pd_desc</th>\n",
       "      <th>perp_race</th>\n",
       "      <th>perp_sex</th>\n",
       "      <th>x_coord_cd</th>\n",
       "      <th>y_coord_cd</th>\n",
       "    </tr>\n",
       "  </thead>\n",
       "  <tbody>\n",
       "    <tr>\n",
       "      <th>0</th>\n",
       "      <td>25-44</td>\n",
       "      <td>M</td>\n",
       "      <td>2019-09-30T00:00:00.000</td>\n",
       "      <td>203078287</td>\n",
       "      <td>9</td>\n",
       "      <td>0</td>\n",
       "      <td>105.0</td>\n",
       "      <td>40.72420015400007</td>\n",
       "      <td>F</td>\n",
       "      <td>PL 1600500</td>\n",
       "      <td>-73.97722564299994</td>\n",
       "      <td>ROBBERY</td>\n",
       "      <td>397</td>\n",
       "      <td>ROBBERY,OPEN AREA UNCLASSIFIED</td>\n",
       "      <td>BLACK HISPANIC</td>\n",
       "      <td>M</td>\n",
       "      <td>990563</td>\n",
       "      <td>203120</td>\n",
       "    </tr>\n",
       "    <tr>\n",
       "      <th>1</th>\n",
       "      <td>18-24</td>\n",
       "      <td>Q</td>\n",
       "      <td>2019-09-30T00:00:00.000</td>\n",
       "      <td>203072424</td>\n",
       "      <td>113</td>\n",
       "      <td>0</td>\n",
       "      <td>121.0</td>\n",
       "      <td>40.68997415500007</td>\n",
       "      <td>F</td>\n",
       "      <td>PL 1450502</td>\n",
       "      <td>-73.79676854399997</td>\n",
       "      <td>CRIMINAL MISCHIEF &amp; RELATED OF</td>\n",
       "      <td>268</td>\n",
       "      <td>CRIMINAL MIS 2 &amp; 3</td>\n",
       "      <td>BLACK</td>\n",
       "      <td>M</td>\n",
       "      <td>1040611</td>\n",
       "      <td>190715</td>\n",
       "    </tr>\n",
       "    <tr>\n",
       "      <th>2</th>\n",
       "      <td>18-24</td>\n",
       "      <td>S</td>\n",
       "      <td>2019-09-30T00:00:00.000</td>\n",
       "      <td>203061215</td>\n",
       "      <td>122</td>\n",
       "      <td>0</td>\n",
       "      <td>347.0</td>\n",
       "      <td>40.60612948000005</td>\n",
       "      <td>M</td>\n",
       "      <td>VTL11920U3</td>\n",
       "      <td>-74.07657042999993</td>\n",
       "      <td>INTOXICATED &amp; IMPAIRED DRIVING</td>\n",
       "      <td>905</td>\n",
       "      <td>INTOXICATED DRIVING,ALCOHOL</td>\n",
       "      <td>WHITE</td>\n",
       "      <td>M</td>\n",
       "      <td>962989</td>\n",
       "      <td>160112</td>\n",
       "    </tr>\n",
       "    <tr>\n",
       "      <th>3</th>\n",
       "      <td>25-44</td>\n",
       "      <td>S</td>\n",
       "      <td>2019-09-30T00:00:00.000</td>\n",
       "      <td>203061218</td>\n",
       "      <td>120</td>\n",
       "      <td>0</td>\n",
       "      <td>105.0</td>\n",
       "      <td>40.645022746000045</td>\n",
       "      <td>F</td>\n",
       "      <td>PL 1601502</td>\n",
       "      <td>-74.077216847</td>\n",
       "      <td>ROBBERY</td>\n",
       "      <td>397</td>\n",
       "      <td>ROBBERY,OPEN AREA UNCLASSIFIED</td>\n",
       "      <td>WHITE HISPANIC</td>\n",
       "      <td>M</td>\n",
       "      <td>962822</td>\n",
       "      <td>174282</td>\n",
       "    </tr>\n",
       "    <tr>\n",
       "      <th>4</th>\n",
       "      <td>18-24</td>\n",
       "      <td>Q</td>\n",
       "      <td>2019-09-30T00:00:00.000</td>\n",
       "      <td>203063729</td>\n",
       "      <td>106</td>\n",
       "      <td>0</td>\n",
       "      <td>105.0</td>\n",
       "      <td>40.68426580100004</td>\n",
       "      <td>F</td>\n",
       "      <td>PL 1601001</td>\n",
       "      <td>-73.81513849899994</td>\n",
       "      <td>ROBBERY</td>\n",
       "      <td>397</td>\n",
       "      <td>ROBBERY,OPEN AREA UNCLASSIFIED</td>\n",
       "      <td>ASIAN / PACIFIC ISLANDER</td>\n",
       "      <td>M</td>\n",
       "      <td>1035521</td>\n",
       "      <td>188624</td>\n",
       "    </tr>\n",
       "  </tbody>\n",
       "</table>\n",
       "</div>"
      ],
      "text/plain": [
       "  age_group arrest_boro              arrest_date arrest_key arrest_precinct  \\\n",
       "0     25-44           M  2019-09-30T00:00:00.000  203078287               9   \n",
       "1     18-24           Q  2019-09-30T00:00:00.000  203072424             113   \n",
       "2     18-24           S  2019-09-30T00:00:00.000  203061215             122   \n",
       "3     25-44           S  2019-09-30T00:00:00.000  203061218             120   \n",
       "4     18-24           Q  2019-09-30T00:00:00.000  203063729             106   \n",
       "\n",
       "  jurisdiction_code  ky_cd            latitude law_cat_cd    law_code  \\\n",
       "0                 0  105.0   40.72420015400007          F  PL 1600500   \n",
       "1                 0  121.0   40.68997415500007          F  PL 1450502   \n",
       "2                 0  347.0   40.60612948000005          M  VTL11920U3   \n",
       "3                 0  105.0  40.645022746000045          F  PL 1601502   \n",
       "4                 0  105.0   40.68426580100004          F  PL 1601001   \n",
       "\n",
       "            longitude                       ofns_desc pd_cd  \\\n",
       "0  -73.97722564299994                         ROBBERY   397   \n",
       "1  -73.79676854399997  CRIMINAL MISCHIEF & RELATED OF   268   \n",
       "2  -74.07657042999993  INTOXICATED & IMPAIRED DRIVING   905   \n",
       "3       -74.077216847                         ROBBERY   397   \n",
       "4  -73.81513849899994                         ROBBERY   397   \n",
       "\n",
       "                          pd_desc                 perp_race perp_sex  \\\n",
       "0  ROBBERY,OPEN AREA UNCLASSIFIED            BLACK HISPANIC        M   \n",
       "1              CRIMINAL MIS 2 & 3                     BLACK        M   \n",
       "2     INTOXICATED DRIVING,ALCOHOL                     WHITE        M   \n",
       "3  ROBBERY,OPEN AREA UNCLASSIFIED            WHITE HISPANIC        M   \n",
       "4  ROBBERY,OPEN AREA UNCLASSIFIED  ASIAN / PACIFIC ISLANDER        M   \n",
       "\n",
       "  x_coord_cd y_coord_cd  \n",
       "0     990563     203120  \n",
       "1    1040611     190715  \n",
       "2     962989     160112  \n",
       "3     962822     174282  \n",
       "4    1035521     188624  "
      ]
     },
     "execution_count": 18,
     "metadata": {},
     "output_type": "execute_result"
    }
   ],
   "source": [
    "results_df = pd.DataFrame(data)\n",
    "results_df.head()"
   ]
  },
  {
   "cell_type": "code",
   "execution_count": 21,
   "metadata": {},
   "outputs": [
    {
     "name": "stdout",
     "output_type": "stream",
     "text": [
      "['M' 'Q' 'S' 'B' 'K']\n",
      "\n",
      "K    1096\n",
      "M    1009\n",
      "B     889\n",
      "Q     816\n",
      "S     190\n",
      "Name: arrest_boro, dtype: int64\n",
      "\n",
      "(4000, 18)\n",
      "\n",
      "age_group            object\n",
      "arrest_boro          object\n",
      "arrest_date          object\n",
      "arrest_key           object\n",
      "arrest_precinct      object\n",
      "jurisdiction_code    object\n",
      "ky_cd                object\n",
      "latitude             object\n",
      "law_cat_cd           object\n",
      "law_code             object\n",
      "longitude            object\n",
      "ofns_desc            object\n",
      "pd_cd                object\n",
      "pd_desc              object\n",
      "perp_race            object\n",
      "perp_sex             object\n",
      "x_coord_cd           object\n",
      "y_coord_cd           object\n",
      "dtype: object\n"
     ]
    }
   ],
   "source": [
    "# unique boroughs\n",
    "unique_results = results_df.arrest_boro.unique()\n",
    "print(unique_results)\n",
    "print()\n",
    "print(results_df['arrest_boro'].value_counts())\n",
    "print()\n",
    "print(results_df.shape)\n",
    "\n",
    "print()\n",
    "print(results_df.dtypes)"
   ]
  },
  {
   "cell_type": "code",
   "execution_count": 37,
   "metadata": {},
   "outputs": [
    {
     "data": {
      "text/plain": [
       "<matplotlib.axes._subplots.AxesSubplot at 0x24e458e4ac8>"
      ]
     },
     "execution_count": 37,
     "metadata": {},
     "output_type": "execute_result"
    },
    {
     "data": {
      "image/png": "[encoded data removed]",
      "text/plain": [
       "<Figure size 432x288 with 1 Axes>"
      ]
     },
     "metadata": {
      "needs_background": "light"
     },
     "output_type": "display_data"
    }
   ],
   "source": [
    "age_group_labels = sorted(results_df.age_group.unique())\n",
    "\n",
    "results_df['age_group'].value_counts()[age_group_labels].plot(kind='bar')\n",
    "#results_df.hist(column='age_group',bins=3)"
   ]
  },
  {
   "cell_type": "code",
   "execution_count": 46,
   "metadata": {},
   "outputs": [
    {
     "data": {
      "text/plain": [
       "<matplotlib.axes._subplots.AxesSubplot at 0x24e478b4da0>"
      ]
     },
     "execution_count": 46,
     "metadata": {},
     "output_type": "execute_result"
    },
    {
     "data": {
      "image/png": "[encoded data removed]",
      "text/plain": [
       "<Figure size 432x288 with 1 Axes>"
      ]
     },
     "metadata": {
      "needs_background": "light"
     },
     "output_type": "display_data"
    }
   ],
   "source": [
    "sns.countplot(results_df['age_group'],\n",
    "              order=age_group_labels)"
   ]
  },
  {
   "cell_type": "code",
   "execution_count": null,
   "metadata": {},
   "outputs": [],
   "source": []
  }
 ],
 "metadata": {
  "kernelspec": {
   "display_name": "Python 3",
   "language": "python",
   "name": "python3"
  },
  "language_info": {
   "codemirror_mode": {
    "name": "ipython",
    "version": 3
   },
   "file_extension": ".py",
   "mimetype": "text/x-python",
   "name": "python",
   "nbconvert_exporter": "python",
   "pygments_lexer": "ipython3",
   "version": "3.7.3"
  }
 },
 "nbformat": 4,
 "nbformat_minor": 2
}
