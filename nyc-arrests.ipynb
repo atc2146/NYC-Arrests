{
 "cells": [
  {
   "cell_type": "markdown",
   "metadata": {},
   "source": [
    "### NYC Arrests - Crime\n",
    "\n",
    "<hr>\n",
    "\n",
    "This notebook extracts NYC arrest data from NYC OpenData. Data is then processed and exported to a CSV file which is then imported into Tableau for data visualization.\n",
    "\n",
    "Before running this notebook, ensure you have the following shape files:\n",
    "<ul>\n",
    "   <li>Neighborhood Tabluation Areas (NTA)</li>\n",
    "   <li>Police Precincts</li> \n",
    "<ul>\n",
    "\n",
    "<hr>"
   ]
  },
  {
   "cell_type": "markdown",
   "metadata": {},
   "source": [
    "### Imports"
   ]
  },
  {
   "cell_type": "code",
   "execution_count": 1,
   "metadata": {},
   "outputs": [
    {
     "name": "stderr",
     "output_type": "stream",
     "text": [
      "C:\\Users\\alexc\\Anaconda3\\lib\\site-packages\\statsmodels\\tools\\_testing.py:19: FutureWarning: pandas.util.testing is deprecated. Use the functions in the public API at pandas.testing instead.\n",
      "  import pandas.util.testing as tm\n"
     ]
    }
   ],
   "source": [
    "#!/usr/bin/env python\n",
    "\n",
    "# make sure to install necessary packages before running\n",
    "# GeoPandas might be a bit difficult to install\n",
    "\n",
    "import os\n",
    "import datetime\n",
    "import sys\n",
    "import math\n",
    "import pandas as pd\n",
    "import numpy as np\n",
    "import matplotlib.pyplot as plt\n",
    "import seaborn as sns\n",
    "\n",
    "from sodapy import Socrata\n",
    "\n",
    "import geopandas\n",
    "from shapely.geometry import Point"
   ]
  },
  {
   "cell_type": "markdown",
   "metadata": {},
   "source": [
    "### Get data from NYC OpenData"
   ]
  },
  {
   "cell_type": "code",
   "execution_count": 2,
   "metadata": {},
   "outputs": [],
   "source": [
    "socrata_domain = 'data.cityofnewyork.us'\n",
    "\n",
    "# NYPD Arrest Data (Year to Date)\n",
    "socrata_dataset_identifier_ny_data_ytd = 'uip8-fykc'\n",
    "\n",
    "# NYPD Arrest Data (Historic)\n",
    "socrata_dataset_identifier_ny_data_his = '8h9b-rp9u'\n",
    "\n",
    "# read application token\n",
    "with open('app-token.txt', 'r') as fp:\n",
    "    contents = fp.read()\n",
    "socrata_token = contents\n",
    "\n",
    "# connect to data\n",
    "client = Socrata(socrata_domain, socrata_token)\n",
    "\n",
    "# Unauthenticated client only works with public data sets. Note 'None'\n",
    "# in place of application token, and no username or password:\n",
    "#client = Socrata(\"data.cityofnewyork.us\", None)\n",
    "\n",
    "# Example authenticated client (needed for non-public datasets):\n",
    "# client = Socrata('data.cityofnewyork.us',\n",
    "#                  MyAppToken,\n",
    "#                  username=\"user@example.com\",\n",
    "#                  password=\"AFakePassword\")\n",
    "\n",
    "# First 2000 results, returned as JSON from API / converted to Python list of\n",
    "# dictionaries by sodapy.\n",
    "# results = client.get(socrata_dataset_identifier, limit=1000)\n",
    "\n",
    "# Convert to pandas DataFrame\n",
    "# results_df = pd.DataFrame.from_records(results)"
   ]
  },
  {
   "cell_type": "markdown",
   "metadata": {},
   "source": [
    "#### Metadata associated with the data pull"
   ]
  },
  {
   "cell_type": "code",
   "execution_count": null,
   "metadata": {},
   "outputs": [],
   "source": [
    "# Metadata\n",
    "# metadata = client.get_metadata(socrata_dataset_identifier_ny_data_ytd)\n",
    "# metadata_columns = [x['name'] for x in metadata['columns']]\n",
    "# metadata_columns"
   ]
  },
  {
   "cell_type": "code",
   "execution_count": null,
   "metadata": {},
   "outputs": [],
   "source": [
    "# Metadata for a particular column\n",
    "# meta_arrest_col_date = [x for x in metadata['columns'] if x['name'] == 'ARREST_DATE'][0]\n",
    "# meta_arrest_col"
   ]
  },
  {
   "cell_type": "markdown",
   "metadata": {},
   "source": [
    "#### Get date range of the data and size of data"
   ]
  },
  {
   "cell_type": "code",
   "execution_count": null,
   "metadata": {},
   "outputs": [],
   "source": [
    "# get date range of data\n",
    "# note: string is returned\n",
    "# most_recent_date = meta_arrest_col_date['cachedContents']['largest']\n",
    "# oldest_date = meta_arrest_col_date['cachedContents']['smallest']\n",
    "# num_of_results = int(meta_arrest_col_date['cachedContents']['not_null'])\n",
    "\n",
    "# print(\"Most recent date: \" + most_recent_date)\n",
    "# print(\"Oldest date: \" + oldest_date)\n",
    "# print(\"Total number of not null results: \"+ str(num_of_results))"
   ]
  },
  {
   "cell_type": "markdown",
   "metadata": {},
   "source": [
    "### Get the data using the API"
   ]
  },
  {
   "cell_type": "code",
   "execution_count": 3,
   "metadata": {},
   "outputs": [],
   "source": [
    "# Get data from start_date to end of previous calendar year\n",
    "start_date = '2017-01-01'\n",
    "\n",
    "# loop through the results (to prevent data from crashing)\n",
    "loop_size = 10000\n",
    "\n",
    "data = []\n",
    "results = True\n",
    "i = 0\n",
    "while(results):\n",
    "    results = client.get(socrata_dataset_identifier_ny_data_his, \n",
    "#                          where=\"ARREST_DATE >= '2019-01-01T00:00:00.000'\",\n",
    "                         where = f\"ARREST_DATE >= '{start_date}T00:00:00.000'\",\n",
    "                         # select=\"column1,column2,etc\",\n",
    "                         # order=\"column1 ASC\",\n",
    "                         # can also do other operations \n",
    "                         limit=loop_size,\n",
    "                         offset=loop_size * i)\n",
    "    i += 1\n",
    "    data.extend(results)"
   ]
  },
  {
   "cell_type": "code",
   "execution_count": 5,
   "metadata": {},
   "outputs": [],
   "source": [
    "# Get data from year to date\n",
    "\n",
    "now = datetime.datetime.now()\n",
    "current_year =  now.year\n",
    "\n",
    "results = True\n",
    "i = 0\n",
    "while(results):\n",
    "    results = client.get(socrata_dataset_identifier_ny_data_ytd, \n",
    "                         where= f\"ARREST_DATE >= '{current_year}-01-01T00:00:00.000'\",\n",
    "                         limit=loop_size,\n",
    "                         offset=loop_size * i)\n",
    "    i += 1\n",
    "    data.extend(results)"
   ]
  },
  {
   "cell_type": "code",
   "execution_count": 7,
   "metadata": {},
   "outputs": [],
   "source": [
    "# put the data in a pandas dataframe\n",
    "results_df = pd.DataFrame(data)"
   ]
  },
  {
   "cell_type": "markdown",
   "metadata": {},
   "source": [
    "### Quick exploration of data"
   ]
  },
  {
   "cell_type": "code",
   "execution_count": null,
   "metadata": {},
   "outputs": [],
   "source": [
    "# # What is law_cat_cd with value 'I'? Likely Traffic Infraction\n",
    "# results_df.loc[results_df['law_cat_cd'] == 'I'].head()"
   ]
  },
  {
   "cell_type": "code",
   "execution_count": null,
   "metadata": {},
   "outputs": [],
   "source": [
    "# # quick summary of data\n",
    "# results_df.describe()"
   ]
  },
  {
   "cell_type": "markdown",
   "metadata": {},
   "source": [
    "### Clean data to make analysis easier"
   ]
  },
  {
   "cell_type": "code",
   "execution_count": 9,
   "metadata": {},
   "outputs": [],
   "source": [
    "# change arrest_boro abbreviation to long form\n",
    "boro_dict = {\n",
    "    'B': 'Bronx',\n",
    "    'S': 'Staten Island',\n",
    "    'K': 'Brooklyn',\n",
    "    'M': 'Manhattan',\n",
    "    'Q': 'Queens',\n",
    "}\n",
    "results_df['arrest_boro'] = results_df.arrest_boro.replace(boro_dict)\n",
    "\n",
    "# change perp_sex abbreviation to long form\n",
    "perp_sex_dict = {\n",
    "    'F': 'Female',\n",
    "    'M': 'Male',\n",
    "}\n",
    "results_df['perp_sex'] = results_df.perp_sex.replace(perp_sex_dict)\n",
    "\n",
    "# change law_cat_cd abbreviation to long form\n",
    "law_cat_cd_dict = {\n",
    "    'F': 'Felony',\n",
    "    'M': 'Misdemeanor',\n",
    "    'V': 'Violation',\n",
    "    'I': 'Traffic Infraction',\n",
    "}\n",
    "results_df['law_cat_cd'] = results_df['law_cat_cd'].replace(law_cat_cd_dict)"
   ]
  },
  {
   "cell_type": "code",
   "execution_count": 10,
   "metadata": {},
   "outputs": [],
   "source": [
    "# change perp_race from all caps to title case\n",
    "results_df['perp_race'] = results_df['perp_race'].apply(lambda x: x.title())\n",
    "\n",
    "# change perp_race from all caps to title case\n",
    "results_df['ofns_desc'] = results_df['ofns_desc'].astype(str)\n",
    "results_df['ofns_desc'] = results_df['ofns_desc'].apply(lambda x: x.title())"
   ]
  },
  {
   "cell_type": "code",
   "execution_count": 11,
   "metadata": {},
   "outputs": [],
   "source": [
    "# change latitude and longitude from string to numeric\n",
    "results_df['latitude'] = pd.to_numeric(results_df['latitude'])\n",
    "results_df['longitude'] = pd.to_numeric(results_df['longitude'])\n",
    "# print(results_df.dtypes)"
   ]
  },
  {
   "cell_type": "markdown",
   "metadata": {},
   "source": [
    "### Prepare data for spatial analysis\n",
    "##### Note: this step may take a long time"
   ]
  },
  {
   "cell_type": "code",
   "execution_count": 12,
   "metadata": {},
   "outputs": [],
   "source": [
    "# add a column of the neighborhood name within NYC (for Tableau)\n",
    "\n",
    "url = r\"Data\\Spatial Files\\Neighborhood Tabulation Areas (NTA)\\geo_export_0c82a76e-3045-414c-9b45-6c529ffc990f.shp\"\n",
    "gdf_locations = geopandas.read_file(url)\n",
    "\n",
    "# convert to GeoDataFrame and create a column of shapely points\n",
    "gdf = geopandas.GeoDataFrame(\n",
    "    results_df, geometry=geopandas.points_from_xy(x=results_df.longitude, y=results_df.latitude)\n",
    ")\n",
    "\n",
    "def get_ntaname(shapely_point):\n",
    "    \"\"\"Returns the neighborhood name in NYC given a Shapely Point\"\"\"\n",
    "    filter_ = gdf_locations['geometry'].contains(shapely_point)\n",
    "    ntaname_pd_series = gdf_locations.loc[filter_, 'ntaname']\n",
    "    if(len(ntaname_pd_series)==0):\n",
    "        return \"Unknown\"\n",
    "    else:\n",
    "        ntaname = ntaname_pd_series.to_string(index=False).strip()\n",
    "        return ntaname\n",
    "\n",
    "# create a new column with the nyc neighborhood\n",
    "# is there a faster way to do this? vectorize?\n",
    "gdf['neighborhood'] = gdf['geometry'].map(get_ntaname)"
   ]
  },
  {
   "cell_type": "code",
   "execution_count": 13,
   "metadata": {},
   "outputs": [
    {
     "name": "stdout",
     "output_type": "stream",
     "text": [
      "(143, 22)\n"
     ]
    }
   ],
   "source": [
    "# unknown neighborhoods (remove in Tableau)\n",
    "unknown_neighborhoods_df = gdf[gdf['neighborhood'] == \"Unknown\"]\n",
    "\n",
    "print(unknown_neighborhoods_df.shape)\n",
    "# print(unknown_neighborhoods_df)"
   ]
  },
  {
   "cell_type": "code",
   "execution_count": null,
   "metadata": {},
   "outputs": [],
   "source": [
    "# results_df.head()"
   ]
  },
  {
   "cell_type": "code",
   "execution_count": 14,
   "metadata": {},
   "outputs": [],
   "source": [
    "### Drop unnecessary columns\n",
    "results_df.drop(columns=['arrest_key', 'x_coord_cd', 'y_coord_cd', 'geometry'], inplace=True)"
   ]
  },
  {
   "cell_type": "markdown",
   "metadata": {},
   "source": [
    "### Summary of data and some data visualization"
   ]
  },
  {
   "cell_type": "code",
   "execution_count": null,
   "metadata": {},
   "outputs": [],
   "source": [
    "# # unique arrest_boro\n",
    "# print(results_df.arrest_boro.unique())\n",
    "\n",
    "# # unique perp_sex\n",
    "# print()\n",
    "# print(results_df.perp_sex.unique())\n",
    "\n",
    "# # unique perp_race\n",
    "# print()\n",
    "# print(results_df.perp_race.unique())\n",
    "\n",
    "# # unique perp_race\n",
    "# print()\n",
    "# print(results_df['law_cat_cd'].value_counts(dropna=False))\n",
    "\n",
    "# # unique pd_desc\n",
    "# print()\n",
    "# unique_pd_desc = results_df.pd_desc.unique()\n",
    "# print(len(unique_pd_desc))\n",
    "\n",
    "# print()\n",
    "# print(results_df['arrest_boro'].value_counts(dropna=False))\n",
    "\n",
    "# print()\n",
    "# print(results_df['jurisdiction_code'].value_counts(dropna=False))\n",
    "\n",
    "\n",
    "# print()\n",
    "# print(results_df['neighborhood'].value_counts(dropna=False))\n",
    "\n",
    "# print()\n",
    "# print(results_df.shape)\n",
    "\n",
    "# print()\n",
    "# print(results_df.dtypes)"
   ]
  },
  {
   "cell_type": "code",
   "execution_count": null,
   "metadata": {},
   "outputs": [],
   "source": [
    "# def order_labels(age_group_labels):\n",
    "#     \"\"\"Returns age_group label sorted in ascending order\"\"\"\n",
    "#     ordered_labels = sorted(list(age_group_labels))\n",
    "#     last_item = ordered_labels.pop()\n",
    "#     ordered_labels.insert(0, last_item)\n",
    "#     return ordered_labels\n",
    "    \n",
    "# age_group_labels = order_labels(results_df.age_group.unique())\n",
    "\n",
    "# sns.countplot(results_df['age_group'], order=age_group_labels)"
   ]
  },
  {
   "cell_type": "code",
   "execution_count": null,
   "metadata": {},
   "outputs": [],
   "source": [
    "# sns.countplot(results_df['perp_sex'], )"
   ]
  },
  {
   "cell_type": "code",
   "execution_count": null,
   "metadata": {},
   "outputs": [],
   "source": [
    "# plot_race = sns.countplot(results_df['perp_race'], )\n",
    "# tick_labels = plot_race.get_xticklabels()\n",
    "# plot_race = plot_race.set_xticklabels(tick_labels, rotation=90)"
   ]
  },
  {
   "cell_type": "code",
   "execution_count": null,
   "metadata": {},
   "outputs": [],
   "source": [
    "# sns.countplot(results_df['arrest_boro'], )"
   ]
  },
  {
   "cell_type": "code",
   "execution_count": 15,
   "metadata": {},
   "outputs": [],
   "source": [
    "# export Pandas DataFrame to csv\n",
    "today = datetime.date.today()\n",
    "results_df.to_csv(f\"Archived Files/{today}_nypd-arrests.csv\", index_label=\"unique_id\")"
   ]
  },
  {
   "cell_type": "code",
   "execution_count": null,
   "metadata": {},
   "outputs": [],
   "source": []
  }
 ],
 "metadata": {
  "kernelspec": {
   "display_name": "Python 3",
   "language": "python",
   "name": "python3"
  },
  "language_info": {
   "codemirror_mode": {
    "name": "ipython",
    "version": 3
   },
   "file_extension": ".py",
   "mimetype": "text/x-python",
   "name": "python",
   "nbconvert_exporter": "python",
   "pygments_lexer": "ipython3",
   "version": "3.7.6"
  }
 },
 "nbformat": 4,
 "nbformat_minor": 2
}
