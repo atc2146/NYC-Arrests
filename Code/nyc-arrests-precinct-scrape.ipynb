{
 "cells": [
  {
   "cell_type": "markdown",
   "metadata": {},
   "source": [
    "### NYC Arrests - Scraping Police Precincts Data\n",
    "\n",
    "<hr>\n",
    "\n",
    "This notebook scrapes the NYC Gov. site online to get data about Police Precincts.  Uses BeautifulSoup and then exports the data to a CSV file.\n",
    "\n",
    "https://www1.nyc.gov/site/nypd/bureaus/patrol/precincts-landing.page\n",
    "\n",
    "<hr>"
   ]
  },
  {
   "cell_type": "markdown",
   "metadata": {},
   "source": [
    "### Imports"
   ]
  },
  {
   "cell_type": "code",
   "execution_count": 1,
   "metadata": {},
   "outputs": [],
   "source": [
    "import pandas as pd\n",
    "import numpy as np\n",
    "import re\n",
    "import datetime\n",
    "\n",
    "import requests\n",
    "import urllib\n",
    "from bs4 import BeautifulSoup\n",
    "from lxml import etree\n",
    "\n",
    "# pd.set_option('display.max_rows', 200)"
   ]
  },
  {
   "cell_type": "markdown",
   "metadata": {},
   "source": [
    "### Beautiful Soup Setup"
   ]
  },
  {
   "cell_type": "code",
   "execution_count": 2,
   "metadata": {},
   "outputs": [],
   "source": [
    "def get_soup_data(url: str):\n",
    "    \"\"\"\n",
    "    Given a URL, this function returns \n",
    "    a BeautifulSoup object of a website \n",
    "    parsed as lxml.\n",
    "    \n",
    "    @url: URL to be parsed\n",
    "    Returns: BeautifulSoup object\n",
    "    \"\"\"\n",
    "    try:\n",
    "        response = requests.get(url)\n",
    "        if not response.status_code == 200:\n",
    "            print(\"HTTP error\", response.status_code)\n",
    "        else:\n",
    "            try:\n",
    "                page_data_soup = BeautifulSoup(response.content,'lxml')\n",
    "                return page_data_soup\n",
    "            except:\n",
    "                print(\"Something went wrong with BeautifulSoup parsing\")\n",
    "    except:\n",
    "        print('Something went wrong with requests.get (possible bad URL)')\n",
    "        \n",
    "def get_precinct_info(url: str):\n",
    "    \"\"\"\n",
    "    https://www1.nyc.gov/site/nypd/bureaus/patrol/precincts/1st-precinct.page\n",
    "    \n",
    "    Given a url to the Police Precincts page,\n",
    "    returns the text for the commanding officer\n",
    "    and the precinct description\n",
    "    \n",
    "    @url: url of the Police Precinct\n",
    "    Return: A tuple of the commanding officer and a description\n",
    "    of the police precinct\n",
    "    \"\"\"\n",
    "    page_data_soup = get_soup_data(url)\n",
    "    \n",
    "    try:\n",
    "        soup_div = page_data_soup.find('div', attrs={'class': 'about-description'})\n",
    "        soup_p = soup_div.find_all('p')\n",
    "        officer = soup_p[0].get_text()\n",
    "        description = soup_p[1].get_text()\n",
    "        return (officer, description)\n",
    "    except:\n",
    "        print(\"Error parsing tag within BeautifulSoup object\")"
   ]
  },
  {
   "cell_type": "markdown",
   "metadata": {},
   "source": [
    "### Scrape the Police Precincts Page"
   ]
  },
  {
   "cell_type": "code",
   "execution_count": 3,
   "metadata": {},
   "outputs": [],
   "source": [
    "url = 'https://www1.nyc.gov/site/nypd/bureaus/patrol/precincts-landing.page'"
   ]
  },
  {
   "cell_type": "code",
   "execution_count": 4,
   "metadata": {},
   "outputs": [],
   "source": [
    "page_data_soup = get_soup_data(url)"
   ]
  },
  {
   "cell_type": "code",
   "execution_count": 5,
   "metadata": {},
   "outputs": [],
   "source": [
    "# print(page_data_soup.prettify())"
   ]
  },
  {
   "cell_type": "code",
   "execution_count": 6,
   "metadata": {},
   "outputs": [],
   "source": [
    "# soup_table = page_data_soup.find('table')"
   ]
  },
  {
   "cell_type": "code",
   "execution_count": 7,
   "metadata": {},
   "outputs": [],
   "source": [
    "list_of_precincts = []\n",
    "\n",
    "try:\n",
    "    soup_table = page_data_soup.find('table')\n",
    "except:\n",
    "    print(\"Error parsing tag within BeautifulSoup object\")\n",
    "\n",
    "\n",
    "for tag in soup_table.find_all('tr'):\n",
    "    \n",
    "    # find the rows of the boroughs\n",
    "    soup_th = tag.find('th', class_='subhead')\n",
    "    if(soup_th):\n",
    "        borough = soup_th.get_text()\n",
    "\n",
    "    # find all rows of precinct now\n",
    "    soup_td = tag.find('td', attrs={'data-label': 'Precinct'})\n",
    "    if(soup_td):\n",
    "        precinct_name = soup_td.get_text()\n",
    "        url = 'https://www1.nyc.gov' + str(soup_td.find('a').get('href'))\n",
    "        telephone = tag.find_all('td')[1].get_text() #note website didn't do this consistently\n",
    "        address = tag.find_all('td')[2].get_text()\n",
    "        officer, description = get_precinct_info(url)\n",
    "        \n",
    "        dict_current_precinct = {\n",
    "            \"Precinct Name\": precinct_name,\n",
    "            \"Borough\": borough,\n",
    "            \"Address\": address,\n",
    "            \"Telephone\": telephone,\n",
    "            \"URL\": url,\n",
    "            'Commanding Officer': officer,\n",
    "            'Description': description\n",
    "        }\n",
    "        list_of_precincts.append(dict_current_precinct)"
   ]
  },
  {
   "cell_type": "code",
   "execution_count": 8,
   "metadata": {},
   "outputs": [],
   "source": [
    "df = pd.DataFrame(list_of_precincts)"
   ]
  },
  {
   "cell_type": "code",
   "execution_count": 9,
   "metadata": {},
   "outputs": [
    {
     "data": {
      "text/html": [
       "<div>\n",
       "<style scoped>\n",
       "    .dataframe tbody tr th:only-of-type {\n",
       "        vertical-align: middle;\n",
       "    }\n",
       "\n",
       "    .dataframe tbody tr th {\n",
       "        vertical-align: top;\n",
       "    }\n",
       "\n",
       "    .dataframe thead th {\n",
       "        text-align: right;\n",
       "    }\n",
       "</style>\n",
       "<table border=\"1\" class=\"dataframe\">\n",
       "  <thead>\n",
       "    <tr style=\"text-align: right;\">\n",
       "      <th></th>\n",
       "      <th>Precinct Name</th>\n",
       "      <th>Borough</th>\n",
       "      <th>Address</th>\n",
       "      <th>Telephone</th>\n",
       "      <th>URL</th>\n",
       "      <th>Commanding Officer</th>\n",
       "      <th>Description</th>\n",
       "    </tr>\n",
       "  </thead>\n",
       "  <tbody>\n",
       "    <tr>\n",
       "      <th>0</th>\n",
       "      <td>1st Precinct</td>\n",
       "      <td>Manhattan</td>\n",
       "      <td>16 Ericsson Place</td>\n",
       "      <td>212-334-0611</td>\n",
       "      <td>https://www1.nyc.gov/site/nypd/bureaus/patrol/...</td>\n",
       "      <td>Commanding Officer: Captain Angel L. Figueroa Jr.</td>\n",
       "      <td>The 1st Precinct serves an area that consists ...</td>\n",
       "    </tr>\n",
       "    <tr>\n",
       "      <th>1</th>\n",
       "      <td>5th Precinct</td>\n",
       "      <td>Manhattan</td>\n",
       "      <td>19 Elizabeth Street</td>\n",
       "      <td>212-334-0711</td>\n",
       "      <td>https://www1.nyc.gov/site/nypd/bureaus/patrol/...</td>\n",
       "      <td>Commanding Officer: Captain Paul J Zangrilli</td>\n",
       "      <td>The 5th Precinct serves the southeastern edge ...</td>\n",
       "    </tr>\n",
       "    <tr>\n",
       "      <th>2</th>\n",
       "      <td>6th Precinct</td>\n",
       "      <td>Manhattan</td>\n",
       "      <td>233 West 10 Street</td>\n",
       "      <td>212-741-4811</td>\n",
       "      <td>https://www1.nyc.gov/site/nypd/bureaus/patrol/...</td>\n",
       "      <td>Commanding Officer: Deputy Inspector Robert O'...</td>\n",
       "      <td>The 6th Precinct serves the southwestern Manha...</td>\n",
       "    </tr>\n",
       "    <tr>\n",
       "      <th>3</th>\n",
       "      <td>7th Precinct</td>\n",
       "      <td>Manhattan</td>\n",
       "      <td>19 1/2 Pitt Street</td>\n",
       "      <td>212-477-7311</td>\n",
       "      <td>https://www1.nyc.gov/site/nypd/bureaus/patrol/...</td>\n",
       "      <td>Commanding Officer: Captain Luis E. Barcia</td>\n",
       "      <td>The 7th Precinct serves Manhattan's Lower East...</td>\n",
       "    </tr>\n",
       "    <tr>\n",
       "      <th>4</th>\n",
       "      <td>9th Precinct</td>\n",
       "      <td>Manhattan</td>\n",
       "      <td>321 East 5 Street</td>\n",
       "      <td>212-477-7811</td>\n",
       "      <td>https://www1.nyc.gov/site/nypd/bureaus/patrol/...</td>\n",
       "      <td>Commanding Officer: Captain John L. O'Connell</td>\n",
       "      <td>The 9th Precinct serves the area from East Hou...</td>\n",
       "    </tr>\n",
       "    <tr>\n",
       "      <th>...</th>\n",
       "      <td>...</td>\n",
       "      <td>...</td>\n",
       "      <td>...</td>\n",
       "      <td>...</td>\n",
       "      <td>...</td>\n",
       "      <td>...</td>\n",
       "      <td>...</td>\n",
       "    </tr>\n",
       "    <tr>\n",
       "      <th>72</th>\n",
       "      <td>115th Precinct</td>\n",
       "      <td>Queens</td>\n",
       "      <td>92-15 Northern Boulevard</td>\n",
       "      <td>718-533-2002</td>\n",
       "      <td>https://www1.nyc.gov/site/nypd/bureaus/patrol/...</td>\n",
       "      <td>Commanding Officer: Deputy Inspector Juan A. D...</td>\n",
       "      <td>The 115th Precinct serves a northern portion o...</td>\n",
       "    </tr>\n",
       "    <tr>\n",
       "      <th>73</th>\n",
       "      <td>120th Precinct</td>\n",
       "      <td>Staten Island</td>\n",
       "      <td>78 Richmond Terrace</td>\n",
       "      <td>718-876-8500</td>\n",
       "      <td>https://www1.nyc.gov/site/nypd/bureaus/patrol/...</td>\n",
       "      <td>Commanding Officer: Inspector Isa Abbassi</td>\n",
       "      <td>The 120th Precinct serves the North Shore of S...</td>\n",
       "    </tr>\n",
       "    <tr>\n",
       "      <th>74</th>\n",
       "      <td>121st Precinct</td>\n",
       "      <td>Staten Island</td>\n",
       "      <td>970 Richmond Avenue</td>\n",
       "      <td>718-697-8700</td>\n",
       "      <td>https://www1.nyc.gov/site/nypd/bureaus/patrol/...</td>\n",
       "      <td>Commanding Officer: Captain Bruce P. Ceparano</td>\n",
       "      <td>The 121st Precinct serves the northwestern sho...</td>\n",
       "    </tr>\n",
       "    <tr>\n",
       "      <th>75</th>\n",
       "      <td>122nd Precinct</td>\n",
       "      <td>Staten Island</td>\n",
       "      <td>2320 Hylan Boulevard</td>\n",
       "      <td>718-667-2211</td>\n",
       "      <td>https://www1.nyc.gov/site/nypd/bureaus/patrol/...</td>\n",
       "      <td>Commanding Officer: Deputy Inspector Melissa Eger</td>\n",
       "      <td>The 122nd Precinct serves a portion of the Sou...</td>\n",
       "    </tr>\n",
       "    <tr>\n",
       "      <th>76</th>\n",
       "      <td>123rd Precinct</td>\n",
       "      <td>Staten Island</td>\n",
       "      <td>116 Main Street</td>\n",
       "      <td>718-948-9311</td>\n",
       "      <td>https://www1.nyc.gov/site/nypd/bureaus/patrol/...</td>\n",
       "      <td>Commanding Officer: Captain Timothy Wilson</td>\n",
       "      <td>The 123rd Precinct serves a portion of the Sou...</td>\n",
       "    </tr>\n",
       "  </tbody>\n",
       "</table>\n",
       "<p>77 rows × 7 columns</p>\n",
       "</div>"
      ],
      "text/plain": [
       "     Precinct Name        Borough                   Address     Telephone  \\\n",
       "0     1st Precinct      Manhattan         16 Ericsson Place  212-334-0611   \n",
       "1     5th Precinct      Manhattan       19 Elizabeth Street  212-334-0711   \n",
       "2     6th Precinct      Manhattan        233 West 10 Street  212-741-4811   \n",
       "3     7th Precinct      Manhattan        19 1/2 Pitt Street  212-477-7311   \n",
       "4     9th Precinct      Manhattan         321 East 5 Street  212-477-7811   \n",
       "..             ...            ...                       ...           ...   \n",
       "72  115th Precinct         Queens  92-15 Northern Boulevard  718-533-2002   \n",
       "73  120th Precinct  Staten Island       78 Richmond Terrace  718-876-8500   \n",
       "74  121st Precinct  Staten Island       970 Richmond Avenue  718-697-8700   \n",
       "75  122nd Precinct  Staten Island      2320 Hylan Boulevard  718-667-2211   \n",
       "76  123rd Precinct  Staten Island           116 Main Street  718-948-9311   \n",
       "\n",
       "                                                  URL  \\\n",
       "0   https://www1.nyc.gov/site/nypd/bureaus/patrol/...   \n",
       "1   https://www1.nyc.gov/site/nypd/bureaus/patrol/...   \n",
       "2   https://www1.nyc.gov/site/nypd/bureaus/patrol/...   \n",
       "3   https://www1.nyc.gov/site/nypd/bureaus/patrol/...   \n",
       "4   https://www1.nyc.gov/site/nypd/bureaus/patrol/...   \n",
       "..                                                ...   \n",
       "72  https://www1.nyc.gov/site/nypd/bureaus/patrol/...   \n",
       "73  https://www1.nyc.gov/site/nypd/bureaus/patrol/...   \n",
       "74  https://www1.nyc.gov/site/nypd/bureaus/patrol/...   \n",
       "75  https://www1.nyc.gov/site/nypd/bureaus/patrol/...   \n",
       "76  https://www1.nyc.gov/site/nypd/bureaus/patrol/...   \n",
       "\n",
       "                                   Commanding Officer  \\\n",
       "0   Commanding Officer: Captain Angel L. Figueroa Jr.   \n",
       "1        Commanding Officer: Captain Paul J Zangrilli   \n",
       "2   Commanding Officer: Deputy Inspector Robert O'...   \n",
       "3          Commanding Officer: Captain Luis E. Barcia   \n",
       "4       Commanding Officer: Captain John L. O'Connell   \n",
       "..                                                ...   \n",
       "72  Commanding Officer: Deputy Inspector Juan A. D...   \n",
       "73          Commanding Officer: Inspector Isa Abbassi   \n",
       "74      Commanding Officer: Captain Bruce P. Ceparano   \n",
       "75  Commanding Officer: Deputy Inspector Melissa Eger   \n",
       "76         Commanding Officer: Captain Timothy Wilson   \n",
       "\n",
       "                                          Description  \n",
       "0   The 1st Precinct serves an area that consists ...  \n",
       "1   The 5th Precinct serves the southeastern edge ...  \n",
       "2   The 6th Precinct serves the southwestern Manha...  \n",
       "3   The 7th Precinct serves Manhattan's Lower East...  \n",
       "4   The 9th Precinct serves the area from East Hou...  \n",
       "..                                                ...  \n",
       "72  The 115th Precinct serves a northern portion o...  \n",
       "73  The 120th Precinct serves the North Shore of S...  \n",
       "74  The 121st Precinct serves the northwestern sho...  \n",
       "75  The 122nd Precinct serves a portion of the Sou...  \n",
       "76  The 123rd Precinct serves a portion of the Sou...  \n",
       "\n",
       "[77 rows x 7 columns]"
      ]
     },
     "execution_count": 9,
     "metadata": {},
     "output_type": "execute_result"
    }
   ],
   "source": [
    "df"
   ]
  },
  {
   "cell_type": "markdown",
   "metadata": {},
   "source": [
    "### Extract precinct number as an integer"
   ]
  },
  {
   "cell_type": "code",
   "execution_count": 10,
   "metadata": {},
   "outputs": [],
   "source": [
    "# Manual Mapping\n",
    "# http://www.nyc.gov/html/nypd/html/precincts/precinct_014.shtml\n",
    "dict_precincts = {'Midtown South Precinct': 14,\n",
    "                  'Midtown North Precinct': 18,\n",
    "                  'Central Park Precinct': 22}\n",
    "\n",
    "# df['Precinct Number'] = df['Precinct Name'].replace(dict_precincts)\n",
    "\n",
    "def get_precinct_number(precinct_name: str):\n",
    "    \"\"\"\n",
    "    Given a precinct name, returns the integer\n",
    "    representation of that precinct\n",
    "    \"\"\"\n",
    "    pattern = r'^(\\d{1,3})\\D+'\n",
    "    match = re.search(pattern, precinct_name)\n",
    "    \n",
    "    if(match):\n",
    "        return int(match.group(1))\n",
    "    else:\n",
    "        return dict_precincts[precinct_name]"
   ]
  },
  {
   "cell_type": "code",
   "execution_count": 11,
   "metadata": {},
   "outputs": [
    {
     "data": {
      "text/html": [
       "<div>\n",
       "<style scoped>\n",
       "    .dataframe tbody tr th:only-of-type {\n",
       "        vertical-align: middle;\n",
       "    }\n",
       "\n",
       "    .dataframe tbody tr th {\n",
       "        vertical-align: top;\n",
       "    }\n",
       "\n",
       "    .dataframe thead th {\n",
       "        text-align: right;\n",
       "    }\n",
       "</style>\n",
       "<table border=\"1\" class=\"dataframe\">\n",
       "  <thead>\n",
       "    <tr style=\"text-align: right;\">\n",
       "      <th></th>\n",
       "      <th>Precinct Name</th>\n",
       "      <th>Borough</th>\n",
       "      <th>Address</th>\n",
       "      <th>Telephone</th>\n",
       "      <th>URL</th>\n",
       "      <th>Commanding Officer</th>\n",
       "      <th>Description</th>\n",
       "      <th>Precinct Number</th>\n",
       "    </tr>\n",
       "  </thead>\n",
       "  <tbody>\n",
       "  </tbody>\n",
       "</table>\n",
       "</div>"
      ],
      "text/plain": [
       "Empty DataFrame\n",
       "Columns: [Precinct Name, Borough, Address, Telephone, URL, Commanding Officer, Description, Precinct Number]\n",
       "Index: []"
      ]
     },
     "execution_count": 11,
     "metadata": {},
     "output_type": "execute_result"
    }
   ],
   "source": [
    "df['Precinct Number'] = df.apply(lambda x: get_precinct_number(x['Precinct Name']), axis=1)\n",
    "df[df['Precinct Number'].isnull()]"
   ]
  },
  {
   "cell_type": "markdown",
   "metadata": {},
   "source": [
    "### Clean precinct commanding officer text"
   ]
  },
  {
   "cell_type": "code",
   "execution_count": 12,
   "metadata": {},
   "outputs": [],
   "source": [
    "def clean_officer_text(string: str) -> str:\n",
    "    \"\"\"\n",
    "    Cleans the commanding officer text from the web\n",
    "    and just returns the commanding officer\n",
    "    \"\"\"\n",
    "    pattern = r'^Commanding Officer:\\s*(.+)$'\n",
    "    match = re.search(pattern, string)\n",
    "    if match:\n",
    "        return match.group(1)\n",
    "    else:\n",
    "        return string\n",
    "    "
   ]
  },
  {
   "cell_type": "code",
   "execution_count": 13,
   "metadata": {},
   "outputs": [],
   "source": [
    "df['Commanding Officer'] = df.apply(lambda x: clean_officer_text(x['Commanding Officer']), axis=1)"
   ]
  },
  {
   "cell_type": "markdown",
   "metadata": {},
   "source": [
    "### Add today's date as date scraped"
   ]
  },
  {
   "cell_type": "code",
   "execution_count": 18,
   "metadata": {},
   "outputs": [],
   "source": [
    "today = datetime.date.today()\n",
    "df['Scraped on'] = today"
   ]
  },
  {
   "cell_type": "markdown",
   "metadata": {},
   "source": [
    "### Output to CSV"
   ]
  },
  {
   "cell_type": "code",
   "execution_count": 20,
   "metadata": {},
   "outputs": [],
   "source": [
    "# Output as CSV\n",
    "df.to_csv('Data/police_precincts.csv')"
   ]
  }
 ],
 "metadata": {
  "kernelspec": {
   "display_name": "Python 3",
   "language": "python",
   "name": "python3"
  },
  "language_info": {
   "codemirror_mode": {
    "name": "ipython",
    "version": 3
   },
   "file_extension": ".py",
   "mimetype": "text/x-python",
   "name": "python",
   "nbconvert_exporter": "python",
   "pygments_lexer": "ipython3",
   "version": "3.7.6"
  }
 },
 "nbformat": 4,
 "nbformat_minor": 2
}
