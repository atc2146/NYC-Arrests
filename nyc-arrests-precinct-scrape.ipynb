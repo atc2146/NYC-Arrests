{
 "cells": [
  {
   "cell_type": "markdown",
   "metadata": {},
   "source": [
    "### NYC Arrests - Crime, Scraping Police Precincts Data\n",
    "\n",
    "<hr>\n",
    "\n",
    "This notebook scrapes the NYC Gov. site online to get data about Police Precincts.  Uses BeautifulSoup and then exports the data to a CSV file.\n",
    "\n",
    "https://www1.nyc.gov/site/nypd/bureaus/patrol/precincts-landing.page\n",
    "\n",
    "<hr>"
   ]
  },
  {
   "cell_type": "markdown",
   "metadata": {},
   "source": [
    "### Imports"
   ]
  },
  {
   "cell_type": "code",
   "execution_count": 1,
   "metadata": {},
   "outputs": [],
   "source": [
    "import pandas as pd\n",
    "import numpy as np\n",
    "import re\n",
    "\n",
    "import requests\n",
    "import urllib\n",
    "from bs4 import BeautifulSoup\n",
    "from lxml import etree"
   ]
  },
  {
   "cell_type": "code",
   "execution_count": 2,
   "metadata": {},
   "outputs": [],
   "source": [
    "def get_soup_data(url: str):\n",
    "    \"\"\"\n",
    "    Given a URL, this function returns \n",
    "    a BeautifulSoup object of a website \n",
    "    parsed as lxml.\n",
    "    \n",
    "    @url: URL to be parsed\n",
    "    Returns: BeautifulSoup object\n",
    "    \"\"\"\n",
    "    try:\n",
    "        response = requests.get(url)\n",
    "        if not response.status_code == 200:\n",
    "            print(\"HTTP error\", response.status_code)\n",
    "        else:\n",
    "            try:\n",
    "                page_data_soup = BeautifulSoup(response.content,'lxml')\n",
    "                return page_data_soup\n",
    "            except:\n",
    "                print(\"Something went wrong with BeautifulSoup parsing\")\n",
    "    except:\n",
    "        print('Something went wrong with requests.get (possible bad URL)')"
   ]
  },
  {
   "cell_type": "code",
   "execution_count": 3,
   "metadata": {},
   "outputs": [],
   "source": [
    "url = 'https://www1.nyc.gov/site/nypd/bureaus/patrol/precincts-landing.page'"
   ]
  },
  {
   "cell_type": "code",
   "execution_count": 4,
   "metadata": {},
   "outputs": [],
   "source": [
    "page_data_soup = get_soup_data(url)"
   ]
  },
  {
   "cell_type": "code",
   "execution_count": 5,
   "metadata": {},
   "outputs": [],
   "source": [
    "# print(page_data_soup.prettify())"
   ]
  },
  {
   "cell_type": "code",
   "execution_count": 6,
   "metadata": {},
   "outputs": [],
   "source": [
    "# soup_table = page_data_soup.find('table')\n"
   ]
  },
  {
   "cell_type": "code",
   "execution_count": 7,
   "metadata": {},
   "outputs": [],
   "source": [
    "list_of_precincts = []\n",
    "\n",
    "try:\n",
    "    soup_table = page_data_soup.find('table')\n",
    "except:\n",
    "    print(\"Error parsing tag within BeautifulSoup object\")\n",
    "\n",
    "\n",
    "for tag in soup_table.find_all('tr'):\n",
    "    \n",
    "    # find the rows of the boroughs\n",
    "    soup_th = tag.find('th', class_='subhead')\n",
    "    if(soup_th):\n",
    "        borough = soup_th.get_text()\n",
    "\n",
    "    # find all rows of precinct now\n",
    "    soup_td = tag.find('td', attrs={'data-label': 'Precinct'})\n",
    "    if(soup_td):\n",
    "        precinct_name = soup_td.get_text()\n",
    "        url = 'https://www1.nyc.gov' + str(soup_td.find('a').get('href'))\n",
    "        telephone = tag.find_all('td')[1].get_text() #note website didn't do this consistently\n",
    "        address = tag.find_all('td')[2].get_text()\n",
    "        \n",
    "        dict_current_precinct = {\n",
    "            \"Precinct Name\": precinct_name,\n",
    "            \"Borough\": borough,\n",
    "            \"Address\": address,\n",
    "            \"Telephone\": telephone,\n",
    "            \"URL\": url,\n",
    "        }\n",
    "        list_of_precincts.append(dict_current_precinct)"
   ]
  },
  {
   "cell_type": "code",
   "execution_count": 8,
   "metadata": {},
   "outputs": [],
   "source": [
    "df = pd.DataFrame(list_of_precincts)"
   ]
  },
  {
   "cell_type": "code",
   "execution_count": 9,
   "metadata": {},
   "outputs": [
    {
     "data": {
      "text/html": [
       "<div>\n",
       "<style scoped>\n",
       "    .dataframe tbody tr th:only-of-type {\n",
       "        vertical-align: middle;\n",
       "    }\n",
       "\n",
       "    .dataframe tbody tr th {\n",
       "        vertical-align: top;\n",
       "    }\n",
       "\n",
       "    .dataframe thead th {\n",
       "        text-align: right;\n",
       "    }\n",
       "</style>\n",
       "<table border=\"1\" class=\"dataframe\">\n",
       "  <thead>\n",
       "    <tr style=\"text-align: right;\">\n",
       "      <th></th>\n",
       "      <th>Precinct Name</th>\n",
       "      <th>Borough</th>\n",
       "      <th>Address</th>\n",
       "      <th>Telephone</th>\n",
       "      <th>URL</th>\n",
       "    </tr>\n",
       "  </thead>\n",
       "  <tbody>\n",
       "    <tr>\n",
       "      <th>0</th>\n",
       "      <td>1st Precinct</td>\n",
       "      <td>Manhattan</td>\n",
       "      <td>16 Ericsson Place</td>\n",
       "      <td>212-334-0611</td>\n",
       "      <td>https://www1.nyc.gov/site/nypd/bureaus/patrol/...</td>\n",
       "    </tr>\n",
       "    <tr>\n",
       "      <th>1</th>\n",
       "      <td>5th Precinct</td>\n",
       "      <td>Manhattan</td>\n",
       "      <td>19 Elizabeth Street</td>\n",
       "      <td>212-334-0711</td>\n",
       "      <td>https://www1.nyc.gov/site/nypd/bureaus/patrol/...</td>\n",
       "    </tr>\n",
       "    <tr>\n",
       "      <th>2</th>\n",
       "      <td>6th Precinct</td>\n",
       "      <td>Manhattan</td>\n",
       "      <td>233 West 10 Street</td>\n",
       "      <td>212-741-4811</td>\n",
       "      <td>https://www1.nyc.gov/site/nypd/bureaus/patrol/...</td>\n",
       "    </tr>\n",
       "    <tr>\n",
       "      <th>3</th>\n",
       "      <td>7th Precinct</td>\n",
       "      <td>Manhattan</td>\n",
       "      <td>19 1/2 Pitt Street</td>\n",
       "      <td>212-477-7311</td>\n",
       "      <td>https://www1.nyc.gov/site/nypd/bureaus/patrol/...</td>\n",
       "    </tr>\n",
       "    <tr>\n",
       "      <th>4</th>\n",
       "      <td>9th Precinct</td>\n",
       "      <td>Manhattan</td>\n",
       "      <td>321 East 5 Street</td>\n",
       "      <td>212-477-7811</td>\n",
       "      <td>https://www1.nyc.gov/site/nypd/bureaus/patrol/...</td>\n",
       "    </tr>\n",
       "    <tr>\n",
       "      <th>...</th>\n",
       "      <td>...</td>\n",
       "      <td>...</td>\n",
       "      <td>...</td>\n",
       "      <td>...</td>\n",
       "      <td>...</td>\n",
       "    </tr>\n",
       "    <tr>\n",
       "      <th>72</th>\n",
       "      <td>115th Precinct</td>\n",
       "      <td>Queens</td>\n",
       "      <td>92-15 Northern Boulevard</td>\n",
       "      <td>718-533-2002</td>\n",
       "      <td>https://www1.nyc.gov/site/nypd/bureaus/patrol/...</td>\n",
       "    </tr>\n",
       "    <tr>\n",
       "      <th>73</th>\n",
       "      <td>120th Precinct</td>\n",
       "      <td>Staten Island</td>\n",
       "      <td>78 Richmond Terrace</td>\n",
       "      <td>718-876-8500</td>\n",
       "      <td>https://www1.nyc.gov/site/nypd/bureaus/patrol/...</td>\n",
       "    </tr>\n",
       "    <tr>\n",
       "      <th>74</th>\n",
       "      <td>121st Precinct</td>\n",
       "      <td>Staten Island</td>\n",
       "      <td>970 Richmond Avenue</td>\n",
       "      <td>718-697-8700</td>\n",
       "      <td>https://www1.nyc.gov/site/nypd/bureaus/patrol/...</td>\n",
       "    </tr>\n",
       "    <tr>\n",
       "      <th>75</th>\n",
       "      <td>122nd Precinct</td>\n",
       "      <td>Staten Island</td>\n",
       "      <td>2320 Hylan Boulevard</td>\n",
       "      <td>718-667-2211</td>\n",
       "      <td>https://www1.nyc.gov/site/nypd/bureaus/patrol/...</td>\n",
       "    </tr>\n",
       "    <tr>\n",
       "      <th>76</th>\n",
       "      <td>123rd Precinct</td>\n",
       "      <td>Staten Island</td>\n",
       "      <td>116 Main Street</td>\n",
       "      <td>718-948-9311</td>\n",
       "      <td>https://www1.nyc.gov/site/nypd/bureaus/patrol/...</td>\n",
       "    </tr>\n",
       "  </tbody>\n",
       "</table>\n",
       "<p>77 rows × 5 columns</p>\n",
       "</div>"
      ],
      "text/plain": [
       "     Precinct Name        Borough                   Address     Telephone  \\\n",
       "0     1st Precinct      Manhattan         16 Ericsson Place  212-334-0611   \n",
       "1     5th Precinct      Manhattan       19 Elizabeth Street  212-334-0711   \n",
       "2     6th Precinct      Manhattan        233 West 10 Street  212-741-4811   \n",
       "3     7th Precinct      Manhattan        19 1/2 Pitt Street  212-477-7311   \n",
       "4     9th Precinct      Manhattan         321 East 5 Street  212-477-7811   \n",
       "..             ...            ...                       ...           ...   \n",
       "72  115th Precinct         Queens  92-15 Northern Boulevard  718-533-2002   \n",
       "73  120th Precinct  Staten Island       78 Richmond Terrace  718-876-8500   \n",
       "74  121st Precinct  Staten Island       970 Richmond Avenue  718-697-8700   \n",
       "75  122nd Precinct  Staten Island      2320 Hylan Boulevard  718-667-2211   \n",
       "76  123rd Precinct  Staten Island           116 Main Street  718-948-9311   \n",
       "\n",
       "                                                  URL  \n",
       "0   https://www1.nyc.gov/site/nypd/bureaus/patrol/...  \n",
       "1   https://www1.nyc.gov/site/nypd/bureaus/patrol/...  \n",
       "2   https://www1.nyc.gov/site/nypd/bureaus/patrol/...  \n",
       "3   https://www1.nyc.gov/site/nypd/bureaus/patrol/...  \n",
       "4   https://www1.nyc.gov/site/nypd/bureaus/patrol/...  \n",
       "..                                                ...  \n",
       "72  https://www1.nyc.gov/site/nypd/bureaus/patrol/...  \n",
       "73  https://www1.nyc.gov/site/nypd/bureaus/patrol/...  \n",
       "74  https://www1.nyc.gov/site/nypd/bureaus/patrol/...  \n",
       "75  https://www1.nyc.gov/site/nypd/bureaus/patrol/...  \n",
       "76  https://www1.nyc.gov/site/nypd/bureaus/patrol/...  \n",
       "\n",
       "[77 rows x 5 columns]"
      ]
     },
     "execution_count": 9,
     "metadata": {},
     "output_type": "execute_result"
    }
   ],
   "source": [
    "df"
   ]
  },
  {
   "cell_type": "code",
   "execution_count": 10,
   "metadata": {},
   "outputs": [],
   "source": [
    "# Manual Mapping\n",
    "# http://www.nyc.gov/html/nypd/html/precincts/precinct_014.shtml\n",
    "dict_precincts = {'Midtown South Precinct': 14,\n",
    "                  'Midtown North Precinct': 18,\n",
    "                  'Central Park Precinct': 22}\n",
    "\n",
    "# df['Precinct Number'] = df['Precinct Name'].replace(dict_precincts)\n",
    "\n",
    "def get_precinct_number(precinct_name: str):\n",
    "    \"\"\"\n",
    "    Given a precinct name, returns the integer\n",
    "    representation of that precinct\n",
    "    \"\"\"\n",
    "    pattern = r'^(\\d{1,3})\\D+'\n",
    "    match = re.search(pattern, precinct_name)\n",
    "    \n",
    "    if(match):\n",
    "        return int(match.group(1))\n",
    "    else:\n",
    "        return dict_precincts[precinct_name]"
   ]
  },
  {
   "cell_type": "code",
   "execution_count": 11,
   "metadata": {},
   "outputs": [
    {
     "data": {
      "text/html": [
       "<div>\n",
       "<style scoped>\n",
       "    .dataframe tbody tr th:only-of-type {\n",
       "        vertical-align: middle;\n",
       "    }\n",
       "\n",
       "    .dataframe tbody tr th {\n",
       "        vertical-align: top;\n",
       "    }\n",
       "\n",
       "    .dataframe thead th {\n",
       "        text-align: right;\n",
       "    }\n",
       "</style>\n",
       "<table border=\"1\" class=\"dataframe\">\n",
       "  <thead>\n",
       "    <tr style=\"text-align: right;\">\n",
       "      <th></th>\n",
       "      <th>Precinct Name</th>\n",
       "      <th>Borough</th>\n",
       "      <th>Address</th>\n",
       "      <th>Telephone</th>\n",
       "      <th>URL</th>\n",
       "      <th>Precinct Number</th>\n",
       "    </tr>\n",
       "  </thead>\n",
       "  <tbody>\n",
       "  </tbody>\n",
       "</table>\n",
       "</div>"
      ],
      "text/plain": [
       "Empty DataFrame\n",
       "Columns: [Precinct Name, Borough, Address, Telephone, URL, Precinct Number]\n",
       "Index: []"
      ]
     },
     "execution_count": 11,
     "metadata": {},
     "output_type": "execute_result"
    }
   ],
   "source": [
    "df['Precinct Number'] = df.apply(lambda x: get_precinct_number(x['Precinct Name']), axis=1)\n",
    "df[df['Precinct Number'].isnull()]"
   ]
  },
  {
   "cell_type": "code",
   "execution_count": 14,
   "metadata": {},
   "outputs": [],
   "source": [
    "# Output as CSV\n",
    "df.to_csv('Data/police_precincts.csv')"
   ]
  },
  {
   "cell_type": "code",
   "execution_count": null,
   "metadata": {},
   "outputs": [],
   "source": []
  }
 ],
 "metadata": {
  "kernelspec": {
   "display_name": "Python 3",
   "language": "python",
   "name": "python3"
  },
  "language_info": {
   "codemirror_mode": {
    "name": "ipython",
    "version": 3
   },
   "file_extension": ".py",
   "mimetype": "text/x-python",
   "name": "python",
   "nbconvert_exporter": "python",
   "pygments_lexer": "ipython3",
   "version": "3.7.6"
  }
 },
 "nbformat": 4,
 "nbformat_minor": 2
}
